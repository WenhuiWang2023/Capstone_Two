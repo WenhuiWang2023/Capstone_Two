{
 "cells": [
  {
   "cell_type": "code",
   "execution_count": 62,
   "id": "bc3f9993",
   "metadata": {},
   "outputs": [],
   "source": [
    "import inspect \n",
    "import datetime"
   ]
  },
  {
   "cell_type": "code",
   "execution_count": 66,
   "id": "438fd618",
   "metadata": {},
   "outputs": [
    {
     "name": "stderr",
     "output_type": "stream",
     "text": [
      "2024-01-08 17:04:53,302 [INFO] Base - Initialised: AppStore('us', 'walmart-shopping-savings', 338137227)\n",
      "2024-01-08 17:04:53,303 [INFO] Base - Ready to fetch reviews from: https://apps.apple.com/us/app/walmart-shopping-savings/id338137227\n",
      "2024-01-08 17:04:58,466 [INFO] Base - [id:338137227] Fetched 300 reviews (300 fetched in total)\n",
      "2024-01-08 17:05:20,364 [ERROR] Base - Something went wrong: HTTPSConnectionPool(host='amp-api.apps.apple.com', port=443): Max retries exceeded with url: /v1/catalog/us/apps/338137227/reviews?l=en-GB&offset=500&limit=20&platform=web&additionalPlatforms=appletv%2Cipad%2Ciphone%2Cmac (Caused by ResponseError('too many 429 error responses'))\n",
      "2024-01-08 17:05:20,368 [INFO] Base - [id:338137227] Fetched 500 reviews (500 fetched in total)\n"
     ]
    }
   ],
   "source": [
    "from app_store_scraper import AppStore\n",
    "walmart = AppStore(country = \"us\", app_name = \"Walmart: Shopping & Savings\", app_id = \"338137227\")\n",
    "\n",
    "walmart.review(how_many = 50000)\n",
    "#tried download appstore walmart review but not working"
   ]
  },
  {
   "cell_type": "code",
   "execution_count": 57,
   "id": "4735589a",
   "metadata": {},
   "outputs": [
    {
     "data": {
      "text/plain": [
       "<Signature (how_many=9223372036854775807, after=None, sleep=None)>"
      ]
     },
     "execution_count": 57,
     "metadata": {},
     "output_type": "execute_result"
    }
   ],
   "source": [
    "inspect.signature(walmart.review) #check app parameters"
   ]
  },
  {
   "cell_type": "code",
   "execution_count": 49,
   "id": "ab3e799c",
   "metadata": {},
   "outputs": [
    {
     "name": "stdout",
     "output_type": "stream",
     "text": [
      "Enter Product Id: 195421557\n",
      "link: https://www.walmart.com/reviews/product/195421557\n",
      "{'https://corporate.walmart.com/', 'https://careers.walmart.com/', 'https://www.walmart.com/help', 'https://www.walmart.com/orders', 'https://business.walmart.com/', 'https://corporate.walmart.com/privacy-security', 'https://www.walmart.com/plus', 'https://marketplace.walmart.com/?utm_source=Walmart.com&utm_medium=link&utm_campaign=footer', 'https://www.walmart.com/help/article/walmart-com-terms-of-use/3b75080af40340d6bbd596f116fae5a0', 'https://www.walmart.com/account/api/ccpa-intake?native=false&app=gm&type=sod', 'https://www.walmart.com/lists', 'https://www.walmart.com/all-departments', 'https://www.walmart.com/cp/flu-shots-immunizations/1228302', 'https://www.walmart.com/cp/folding-treadmills/5577036', 'https://www.walmart.com/cp/treadmills/1074326', 'https://www.walmart.com/my-registries', 'http://msds.walmartstores.com/', 'https://www.walmart.com/cp/sports-outdoors/4125', 'https://walmart.onelink.me/UIev?pid=walmart.com&af_web_dp=https%3A%2F%2Fwww.walmart.com%2Fcp%2Fwalmart-mobile-app%2F1087865&c=Walmart.com%20Site%20Footer&af_dp=walmart%3A%2F%2F', 'https://www.walmart.com/', 'https://www.walmart.com/cp/walmart-in-the-know/7781927', 'https://www.walmart.com/brand/branddirectory', 'https://corporate.walmart.com/california-transparency', 'https://www.walmart.com/reviews/write-review?productId=195421557&returnUrl=/reviews/product/195421557&campaign_id=UGC-SEE-ALL-REVIEWS-SINGLE-ITEM-REVIEW', 'https://www.walmart.com/ip/XTERRA-Fitness-TR6-6-Folding-Treadmill-with-Heart-Rate-Chest-Strap/195421557', 'https://www.walmart.com/account/api/ccpa-intake?native=false&app=gm&type=access', 'https://www.walmart.com/account/login?vid=oaoh', 'https://www.walmart.com/cp/email-opt-in/8196352?gbo=1', 'https://www.walmart.com/taxexempt/', 'https://www.walmart.com/store/directory', 'https://www.walmart.com/my-items', 'https://corporate.walmart.com/privacy-security/california-privacy-rights#what-are-the-categories-of-personal-information-collected', 'https://www.walmart.com/cp/exercise-fitness/4134', 'https://www.walmart.com/help/article/responsible-disclosure-and-accessibility-policies/0f173dab8bd942da84b1cd7ab5ffc3cb', 'https://corporate.walmart.com/recalls'}\n"
     ]
    },
    {
     "ename": "AttributeError",
     "evalue": "'NoneType' object has no attribute 'text'",
     "output_type": "error",
     "traceback": [
      "\u001b[1;31m---------------------------------------------------------------------------\u001b[0m",
      "\u001b[1;31mAttributeError\u001b[0m                            Traceback (most recent call last)",
      "Cell \u001b[1;32mIn[49], line 68\u001b[0m\n\u001b[0;32m     66\u001b[0m    \u001b[38;5;28;01mif\u001b[39;00m \u001b[38;5;28mtype\u001b[39m(product) \u001b[38;5;241m==\u001b[39m \u001b[38;5;28mint\u001b[39m:\n\u001b[0;32m     67\u001b[0m        link \u001b[38;5;241m=\u001b[39m \u001b[38;5;124mf\u001b[39m\u001b[38;5;124m'\u001b[39m\u001b[38;5;124mhttps://www.walmart.com/reviews/product/\u001b[39m\u001b[38;5;132;01m{\u001b[39;00mproduct\u001b[38;5;132;01m}\u001b[39;00m\u001b[38;5;124m'\u001b[39m\n\u001b[1;32m---> 68\u001b[0m        \u001b[43mget_reviews\u001b[49m\u001b[43m(\u001b[49m\u001b[43mlink\u001b[49m\u001b[43m)\u001b[49m\n\u001b[0;32m     69\u001b[0m \u001b[38;5;28;01mexcept\u001b[39;00m \u001b[38;5;167;01mValueError\u001b[39;00m:\n\u001b[0;32m     70\u001b[0m    \u001b[38;5;28mprint\u001b[39m(\u001b[38;5;124m\"\u001b[39m\u001b[38;5;124mUnvalid Input!\u001b[39m\u001b[38;5;124m\"\u001b[39m)\n",
      "Cell \u001b[1;32mIn[49], line 19\u001b[0m, in \u001b[0;36mget_reviews\u001b[1;34m(link)\u001b[0m\n\u001b[0;32m     17\u001b[0m r \u001b[38;5;241m=\u001b[39m session\u001b[38;5;241m.\u001b[39mget(link)\n\u001b[0;32m     18\u001b[0m \u001b[38;5;28mprint\u001b[39m(r\u001b[38;5;241m.\u001b[39mhtml\u001b[38;5;241m.\u001b[39mabsolute_links)\n\u001b[1;32m---> 19\u001b[0m num_pages \u001b[38;5;241m=\u001b[39m \u001b[38;5;28mint\u001b[39m(\u001b[43mr\u001b[49m\u001b[38;5;241;43m.\u001b[39;49m\u001b[43mhtml\u001b[49m\u001b[38;5;241;43m.\u001b[39;49m\u001b[43mfind\u001b[49m\u001b[43m(\u001b[49m\u001b[38;5;124;43m'\u001b[39;49m\u001b[38;5;124;43m.paginator-list\u001b[39;49m\u001b[38;5;124;43m'\u001b[39;49m\u001b[43m,\u001b[49m\u001b[43mfirst\u001b[49m\u001b[38;5;241;43m=\u001b[39;49m\u001b[38;5;28;43;01mTrue\u001b[39;49;00m\u001b[43m)\u001b[49m\u001b[38;5;241;43m.\u001b[39;49m\u001b[43mtext\u001b[49m\u001b[38;5;241m.\u001b[39msplit(\u001b[38;5;124m'\u001b[39m\u001b[38;5;130;01m\\n\u001b[39;00m\u001b[38;5;124m'\u001b[39m)[\u001b[38;5;241m-\u001b[39m\u001b[38;5;241m1\u001b[39m])\n\u001b[0;32m     20\u001b[0m \u001b[38;5;28mprint\u001b[39m(\u001b[38;5;124m\"\u001b[39m\u001b[38;5;124mnum_pages:\u001b[39m\u001b[38;5;124m\"\u001b[39m,num_pages)\n\u001b[0;32m     21\u001b[0m product_name \u001b[38;5;241m=\u001b[39m r\u001b[38;5;241m.\u001b[39mhtml\u001b[38;5;241m.\u001b[39mfind(\u001b[38;5;124m'\u001b[39m\u001b[38;5;124m.prod-ProductTitle\u001b[39m\u001b[38;5;124m'\u001b[39m, first\u001b[38;5;241m=\u001b[39m\u001b[38;5;28;01mTrue\u001b[39;00m)\u001b[38;5;241m.\u001b[39mtext\n",
      "\u001b[1;31mAttributeError\u001b[0m: 'NoneType' object has no attribute 'text'"
     ]
    }
   ],
   "source": [
    "#https://github.com/AnasBuhayh/reviews-scraper/blob/main/reviews_scrapper.py\n",
    "#tried this scraping code, it is OK to access the walmart webpage but seems that the version is too old, walmart has changed its\n",
    "#webpage format\n",
    "import requests\n",
    "from requests_html import HTMLSession\n",
    "import pandas as pd\n",
    "import time\n",
    "import re\n",
    "\n",
    "df = pd.DataFrame(columns = ['Date', 'Title', 'Review_Text', 'Product', 'Rating'])\n",
    "dates = []\n",
    "titles = []\n",
    "texts = []\n",
    "ratings = []\n",
    "\n",
    "def get_reviews(link):\n",
    "    session = HTMLSession()\n",
    "    print(\"link:\",link)\n",
    "    r = session.get(link)\n",
    "    print(r.html.absolute_links)\n",
    "    num_pages = int(r.html.find('.paginator-list',first=True).text.split('\\n')[-1])\n",
    "    print(\"num_pages:\",num_pages)\n",
    "    product_name = r.html.find('.prod-ProductTitle', first=True).text\n",
    "    print(\"product_name:\",product_name)\n",
    "    file_name = product_name.translate({ord(c): \"_\" for c in \"\\\"!@#$%^&*()[]{};:,./<>?\\|`~-=_+ \"})\n",
    "    print(\"file_name:\",file_name)\n",
    "\n",
    "    for page in range(num_pages):\n",
    "        page_link = link + '?page=' + str(page)\n",
    "        r = session.get(page_link)\n",
    "\n",
    "        reviews = r.html.find('.review')\n",
    "        for review in reviews:\n",
    "            date = review.find('.review-date-submissionTime', first=True).text \n",
    "            try:\n",
    "                title = review.find('.review-title', first=True).text\n",
    "            except:\n",
    "                title = \"none\"\n",
    "            try:\n",
    "                text = review.find('.review-text', first=True).text \n",
    "            except:\n",
    "                text = \"none\"\n",
    "            rating = review.find('.seo-avg-rating', first=True).text \n",
    "\n",
    "            dates.append(date)\n",
    "            titles.append(title)\n",
    "            texts.append(text)\n",
    "            ratings.append(rating)\n",
    "\n",
    "        print(f'scrapping page: {page + 1} out of {num_pages}')\n",
    "        time.sleep(0.1)\n",
    "        \n",
    "    df['Rating'] = ratings\n",
    "    df['Title'] = titles\n",
    "    df['Date'] = dates\n",
    "    df['Review_Text'] = texts\n",
    "    df['Product'] = product_name\n",
    "\n",
    "    df.to_csv(index=False, path_or_buf=f'{product}.csv')\n",
    "\n",
    "    print('Done Scrapping!')\n",
    "\n",
    "\n",
    "product = input(\"Enter Product Id: \")\n",
    "\n",
    "try:\n",
    "   product = int(product)\n",
    "   if type(product) == int:\n",
    "       link = f'https://www.walmart.com/reviews/product/{product}'\n",
    "       get_reviews(link)\n",
    "except ValueError:\n",
    "   print(\"Unvalid Input!\")"
   ]
  },
  {
   "cell_type": "code",
   "execution_count": 46,
   "id": "14e7032e",
   "metadata": {},
   "outputs": [],
   "source": [
    "import requests\n",
    "from requests_html import HTMLSession\n",
    " \n",
    "url = \"https://www.searchenginejournal.com/introduction-to-python-seo-spreadsheets/342779/\"\n",
    " \n",
    "try:\n",
    "    session = HTMLSession()\n",
    "    response = session.get(url)\n",
    "     \n",
    "except requests.exceptions.RequestException as e:\n",
    "    print(e)"
   ]
  },
  {
   "cell_type": "code",
   "execution_count": 48,
   "id": "76e45df9",
   "metadata": {},
   "outputs": [
    {
     "name": "stdout",
     "output_type": "stream",
     "text": [
      "An Introduction to Python for SEO Pros Using Spreadsheets\n"
     ]
    }
   ],
   "source": [
    "title =  response.html.find('title')\n",
    "print(title[0].text)"
   ]
  },
  {
   "cell_type": "code",
   "execution_count": null,
   "id": "d3e02ff1",
   "metadata": {},
   "outputs": [],
   "source": []
  },
  {
   "cell_type": "code",
   "execution_count": null,
   "id": "36dc01bd",
   "metadata": {},
   "outputs": [],
   "source": []
  }
 ],
 "metadata": {
  "kernelspec": {
   "display_name": "Python 3 (ipykernel)",
   "language": "python",
   "name": "python3"
  },
  "language_info": {
   "codemirror_mode": {
    "name": "ipython",
    "version": 3
   },
   "file_extension": ".py",
   "mimetype": "text/x-python",
   "name": "python",
   "nbconvert_exporter": "python",
   "pygments_lexer": "ipython3",
   "version": "3.11.0"
  }
 },
 "nbformat": 4,
 "nbformat_minor": 5
}
